{
 "cells": [
  {
   "cell_type": "code",
   "execution_count": 6,
   "id": "382c73ea",
   "metadata": {},
   "outputs": [
    {
     "name": "stdout",
     "output_type": "stream",
     "text": [
      "Enter a sentence:Agshin is a student\n",
      "Agshin\tis\ta\tstudent\n"
     ]
    }
   ],
   "source": [
    "string=input(\"Enter a sentence:\")\n",
    "print(string.replace(' ','\\t'))"
   ]
  },
  {
   "cell_type": "code",
   "execution_count": 8,
   "id": "c943b0b8",
   "metadata": {},
   "outputs": [
    {
     "name": "stdout",
     "output_type": "stream",
     "text": [
      "Enter a sentence:Agshin is a student\n",
      "19\n"
     ]
    }
   ],
   "source": [
    "string=input(\"Enter a sentence:\")\n",
    "print(len(string))"
   ]
  },
  {
   "cell_type": "code",
   "execution_count": 9,
   "id": "3b8fd3ad",
   "metadata": {},
   "outputs": [
    {
     "name": "stdout",
     "output_type": "stream",
     "text": [
      "Enter a sentence:Agshin is a student\n",
      "4\n"
     ]
    }
   ],
   "source": [
    "string=input(\"Enter a sentence:\")\n",
    "string=string.split()\n",
    "print(len(string))"
   ]
  },
  {
   "cell_type": "code",
   "execution_count": 13,
   "id": "529bc26f",
   "metadata": {},
   "outputs": [
    {
     "name": "stdout",
     "output_type": "stream",
     "text": [
      "Enter a sentence:Agshin is a student\n",
      "i\n",
      "i\n",
      "a\n",
      "u\n",
      "e\n"
     ]
    }
   ],
   "source": [
    "list = ['a','e','i','o','u']\n",
    "string=input(\"Enter a sentence:\")\n",
    "for i in string:\n",
    "    if list.count(i)==1:\n",
    "        print(i)"
   ]
  },
  {
   "cell_type": "code",
   "execution_count": 20,
   "id": "6d6b56e6",
   "metadata": {},
   "outputs": [
    {
     "name": "stdout",
     "output_type": "stream",
     "text": [
      "Enter a sentence:abbas\n",
      "No, it is not polindrom\n"
     ]
    }
   ],
   "source": [
    "string=input(\"Enter a sentence:\")\n",
    "reverse = string[::-1]\n",
    "if string == reverse:\n",
    "    print(\"Yes, it is polindrom\")\n",
    "else:\n",
    "    print(\"No, it is not polindrom\")"
   ]
  },
  {
   "cell_type": "code",
   "execution_count": 7,
   "id": "99661c83",
   "metadata": {},
   "outputs": [
    {
     "name": "stdout",
     "output_type": "stream",
     "text": [
      "Enter a sentence:Aqshin\n",
      "Enter an index that related to the element which you want to remove:2\n",
      "Aqhin\n"
     ]
    }
   ],
   "source": [
    "string=input(\"Enter a sentence:\")\n",
    "a=int(input(\"Enter an index that related to the element which you want to remove:\"))\n",
    "list=[]\n",
    "for i in string:\n",
    "    list.append(i)\n",
    "del list[a]\n",
    "print(''.join(list))"
   ]
  },
  {
   "cell_type": "code",
   "execution_count": 13,
   "id": "40ddb268",
   "metadata": {},
   "outputs": [
    {
     "name": "stdout",
     "output_type": "stream",
     "text": [
      "Enter a sentence:Abbas\n",
      "Enter a character which you want to delete:b\n",
      "Aas\n"
     ]
    }
   ],
   "source": [
    "string = input(\"Enter a sentence:\")\n",
    "vr= input(\"Enter a character which you want to delete:\")\n",
    "list = []\n",
    "for i in string:\n",
    "    list.append(i)\n",
    "for d in range(string.count(vr)):\n",
    "    list.remove(vr)\n",
    "print(''.join(list))"
   ]
  },
  {
   "cell_type": "code",
   "execution_count": 38,
   "id": "76a497fd",
   "metadata": {},
   "outputs": [
    {
     "name": "stdout",
     "output_type": "stream",
     "text": [
      "Enter a sentence:Aqshin is a\n",
      "Enter a character which you want to insert:abc\n",
      "Mention the index in which you want to insert the charcter:5\n",
      "Aqshin is a\n",
      "abc\n",
      "5\n"
     ]
    }
   ],
   "source": [
    "s = input(\"Enter a sentence:\")\n",
    "vr= input(\"Enter a character which you want to insert:\")\n",
    "index = int(input(\"Mention the index in which you want to insert the charcter:\"))\n",
    "#a = list(s)\n",
    "#a.insert(index,vr)\n",
    "#print(\"\".join(a))\n",
    "print(s)\n",
    "print(vr)\n",
    "print(index)"
   ]
  },
  {
   "cell_type": "code",
   "execution_count": 19,
   "id": "f4fb1eeb",
   "metadata": {},
   "outputs": [
    {
     "name": "stdout",
     "output_type": "stream",
     "text": [
      "Enter a sentence:Aqshin is a studen\n",
      "Aqshin\n",
      "studen\n"
     ]
    }
   ],
   "source": [
    "string = input(\"Enter a sentence:\")\n",
    "string = string.split(' ')\n",
    "l=0\n",
    "for i in string:\n",
    "    if len(i)>=l:\n",
    "        l=len(i)\n",
    "for j in string:\n",
    "    if len(j)==l:\n",
    "        print(j)"
   ]
  },
  {
   "cell_type": "code",
   "execution_count": 97,
   "id": "63748d4a",
   "metadata": {},
   "outputs": [
    {
     "name": "stdout",
     "output_type": "stream",
     "text": [
      "Enter equation:1-3*25+600\n",
      "['1', '3', '25', '600']\n",
      "3\n",
      "1925+600\n",
      "1925+600\n",
      "['1925', '600']\n",
      "2525\n",
      "2525\n"
     ]
    }
   ],
   "source": [
    "l=['+','-','*','/']\n",
    "a = input(\"Enter equation:\")\n",
    "y=a\n",
    "y=y.replace(\"-\",\"+\")\n",
    "y=y.replace(\"*\",\"+\")\n",
    "y=y.replace(\"/\",\"+\")\n",
    "y=y.split('+')\n",
    "print(y)\n",
    "k=0\n",
    "for i in a:\n",
    "    if i in l and i!='*' and l!='/':\n",
    "        f=a.index(i)\n",
    "    if i=='*':\n",
    "        e=a.index(i)\n",
    "        break\n",
    "c=int(y[f])\n",
    "print(c)\n",
    "for i in a:\n",
    "    if i in l and i!='*' and l!='/':\n",
    "        f==a.index(i)\n",
    "    if i=='*':\n",
    "        e=a.index(i)\n",
    "        c*=int(y[f+k])\n",
    "        a=a.replace(a[e-f-1:e-f+2],str(c))\n",
    "        k+=1\n",
    "        print(a)\n",
    "    elif i=='/':\n",
    "        e=a.index(i)\n",
    "        c/=int(y[k+1])\n",
    "        a=a.replace(a[e-1:e+2],str(c))\n",
    "        k+=1\n",
    "print(a)\n",
    "x=a\n",
    "x=x.replace(\"-\",\"+\")\n",
    "x=x.split('+')\n",
    "print(x)\n",
    "t=0\n",
    "s=int(x[t])\n",
    "for j in a:\n",
    "    if j=='+':\n",
    "        s+=int(x[t+1])\n",
    "        t+=1\n",
    "        print(s)\n",
    "    elif j=='-':\n",
    "        s-=int(x[t+1])\n",
    "        t+=1\n",
    "        print(s)\n",
    "print(s)"
   ]
  },
  {
   "cell_type": "markdown",
   "id": "b333da91",
   "metadata": {},
   "source": []
  },
  {
   "cell_type": "code",
   "execution_count": null,
   "id": "5d4eb4b5",
   "metadata": {},
   "outputs": [],
   "source": []
  }
 ],
 "metadata": {
  "kernelspec": {
   "display_name": "Python 3 (ipykernel)",
   "language": "python",
   "name": "python3"
  },
  "language_info": {
   "codemirror_mode": {
    "name": "ipython",
    "version": 3
   },
   "file_extension": ".py",
   "mimetype": "text/x-python",
   "name": "python",
   "nbconvert_exporter": "python",
   "pygments_lexer": "ipython3",
   "version": "3.11.5"
  }
 },
 "nbformat": 4,
 "nbformat_minor": 5
}
