{
 "cells": [
  {
   "cell_type": "code",
   "execution_count": 1,
   "id": "0f778794",
   "metadata": {},
   "outputs": [
    {
     "name": "stdout",
     "output_type": "stream",
     "text": [
      "15\n"
     ]
    }
   ],
   "source": [
    "a=5\n",
    "b=10\n",
    "print(a+b)"
   ]
  },
  {
   "cell_type": "code",
   "execution_count": 2,
   "id": "8a40f26d",
   "metadata": {},
   "outputs": [
    {
     "name": "stdout",
     "output_type": "stream",
     "text": [
      "8\n"
     ]
    }
   ],
   "source": [
    "a=7\n",
    "b=9\n",
    "print((a+b)//2)"
   ]
  },
  {
   "cell_type": "code",
   "execution_count": 3,
   "id": "420485ff",
   "metadata": {},
   "outputs": [
    {
     "name": "stdout",
     "output_type": "stream",
     "text": [
      "-1.3333333333333333\n"
     ]
    }
   ],
   "source": [
    "a=3\n",
    "b=4\n",
    "x=-b/a\n",
    "print(x)"
   ]
  },
  {
   "cell_type": "code",
   "execution_count": 4,
   "id": "726b2eee",
   "metadata": {},
   "outputs": [
    {
     "name": "stdout",
     "output_type": "stream",
     "text": [
      "3\n",
      "27\n"
     ]
    }
   ],
   "source": [
    "a=int(input())\n",
    "print(a**3)"
   ]
  },
  {
   "cell_type": "code",
   "execution_count": 6,
   "id": "10cabd6a",
   "metadata": {},
   "outputs": [
    {
     "name": "stdout",
     "output_type": "stream",
     "text": [
      "Input radius:2\n",
      "12.566370614359172\n"
     ]
    }
   ],
   "source": [
    "import math\n",
    "r=int(input('Input radius:'))\n",
    "print(r**2*math.pi)"
   ]
  },
  {
   "cell_type": "code",
   "execution_count": 8,
   "id": "079b85e5",
   "metadata": {},
   "outputs": [
    {
     "name": "stdout",
     "output_type": "stream",
     "text": [
      "Enter the value of money:5\n",
      "8.5\n"
     ]
    }
   ],
   "source": [
    "ex_rate=1.7\n",
    "D=int(input(\"Enter the value of money:\"))\n",
    "print(D*ex_rate)"
   ]
  },
  {
   "cell_type": "code",
   "execution_count": 12,
   "id": "d01f60cc",
   "metadata": {},
   "outputs": [
    {
     "name": "stdout",
     "output_type": "stream",
     "text": [
      "Input distance in miles:5\n",
      "5 miles = 8.045 km\n"
     ]
    }
   ],
   "source": [
    "conv=1.609\n",
    "mile=int(input(\"Input distance in miles:\"))\n",
    "print(f\"{mile} miles = {mile*conv} km\")"
   ]
  },
  {
   "cell_type": "code",
   "execution_count": 15,
   "id": "f888948c",
   "metadata": {},
   "outputs": [
    {
     "name": "stdout",
     "output_type": "stream",
     "text": [
      "Enter your birthday as DD,MM,YYYY:10,04,2006\n",
      "Enter date as DD,MM,YYYY:21,11,2023\n",
      "17\n"
     ]
    }
   ],
   "source": [
    "birth=input(\"Enter your birthday as DD,MM,YYYY:\")\n",
    "date=input(\"Enter date as DD,MM,YYYY:\")\n",
    "b=birth.split(',')\n",
    "d=date.split(',')\n",
    "if int(d[1])>int(b[1]):\n",
    "    print(int(d[2])-int(b[2]))\n",
    "else:\n",
    "    print(int(d[2])-int(b[2])+1)"
   ]
  },
  {
   "cell_type": "code",
   "execution_count": 17,
   "id": "064b176b",
   "metadata": {},
   "outputs": [
    {
     "name": "stdout",
     "output_type": "stream",
     "text": [
      "11.5\n"
     ]
    }
   ],
   "source": [
    "s=50\n",
    "p=23\n",
    "print(s*p/100)"
   ]
  },
  {
   "cell_type": "code",
   "execution_count": 18,
   "id": "8c557a00",
   "metadata": {},
   "outputs": [
    {
     "name": "stdout",
     "output_type": "stream",
     "text": [
      "Naqilin uzunluğunu daxil et:8\n",
      "2.5464790894703255\n"
     ]
    }
   ],
   "source": [
    "import math\n",
    "x=int(input(\"Naqilin uzunluğunu daxil et:\"))\n",
    "print(x/math.pi)"
   ]
  },
  {
   "cell_type": "code",
   "execution_count": 24,
   "id": "50e051a9",
   "metadata": {
    "scrolled": true
   },
   "outputs": [
    {
     "name": "stdout",
     "output_type": "stream",
     "text": [
      "Enter the distance to the airport:2000\n",
      "Enter time duration:40\n",
      "50.0\n"
     ]
    }
   ],
   "source": [
    "distance=int(input(\"Enter the distance to the airport:\"))\n",
    "time=int(input(\"Enter time duration:\"))\n",
    "print(distance/time)"
   ]
  },
  {
   "cell_type": "code",
   "execution_count": 37,
   "id": "7ff5d5ad",
   "metadata": {},
   "outputs": [
    {
     "name": "stdout",
     "output_type": "stream",
     "text": [
      "Enter beginning time like HH,MM,SS:11,30,45\n",
      "Enter finishing time like HH,MM,SS:11,34,33\n",
      "['11', '30', '45']\n",
      "['11', '34', '33']\n",
      "Danışığın qiyməti 1.14\n"
     ]
    }
   ],
   "source": [
    "start=input(\"Enter beginning time like HH,MM,SS:\")\n",
    "end=input(\"Enter finishing time like HH,MM,SS:\")\n",
    "c=0\n",
    "s=start.split(\",\")\n",
    "e=end.split(\",\")\n",
    "print(s)\n",
    "print(e)\n",
    "c+=(int(e[0])-int(s[0]))*60\n",
    "c+=int(e[1])-int(s[1])\n",
    "if int(e[2])>=int(s[2]):\n",
    "    c+=(int(e[2])-int(s[2]))/60\n",
    "else:\n",
    "    c-=(int(s[2])-int(e[2]))/60\n",
    "print(f\"Danışığın qiyməti {c*0.3} manatdır.\")"
   ]
  },
  {
   "cell_type": "code",
   "execution_count": null,
   "id": "a5e8a9f6",
   "metadata": {},
   "outputs": [],
   "source": []
  }
 ],
 "metadata": {
  "kernelspec": {
   "display_name": "Python 3 (ipykernel)",
   "language": "python",
   "name": "python3"
  },
  "language_info": {
   "codemirror_mode": {
    "name": "ipython",
    "version": 3
   },
   "file_extension": ".py",
   "mimetype": "text/x-python",
   "name": "python",
   "nbconvert_exporter": "python",
   "pygments_lexer": "ipython3",
   "version": "3.11.5"
  }
 },
 "nbformat": 4,
 "nbformat_minor": 5
}
